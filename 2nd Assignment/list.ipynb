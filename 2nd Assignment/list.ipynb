{
 "cells": [
  {
   "cell_type": "code",
   "execution_count": 83,
   "metadata": {},
   "outputs": [
    {
     "name": "stdout",
     "output_type": "stream",
     "text": [
      "Eshah\n",
      "Aqsa\n",
      "Zunaira\n",
      "Mishal\n"
     ]
    }
   ],
   "source": [
    "# Exercise 3.1\n",
    "names:list = ['Eshah','Aqsa','Zunaira','Mishal']\n",
    "print(names[0])\n",
    "print(names[1])\n",
    "print(names[2])\n",
    "print(names[3])"
   ]
  },
  {
   "cell_type": "code",
   "execution_count": 84,
   "metadata": {},
   "outputs": [
    {
     "name": "stdout",
     "output_type": "stream",
     "text": [
      "Hi, Nice to meet you Aqsa\n",
      "Hi, Nice to meet you Zunaira\n",
      "Hi, Nice to meet you Eshah\n",
      "Hi, Nice to meet you Mishal\n"
     ]
    }
   ],
   "source": [
    "# Exercise 3.2\n",
    "names:list= [\"Aqsa\",\"Zunaira\",\"Eshah\",\"Mishal\"]\n",
    "print(f\"Hi, Nice to meet you {names[0]}\")\n",
    "print(f\"Hi, Nice to meet you {names[1]}\")\n",
    "print(f\"Hi, Nice to meet you {names[2]}\")\n",
    "print(f\"Hi, Nice to meet you {names[3]}\")\n"
   ]
  },
  {
   "cell_type": "code",
   "execution_count": 85,
   "metadata": {},
   "outputs": [
    {
     "name": "stdout",
     "output_type": "stream",
     "text": [
      "I would like to own an aeroplane\n",
      "I also like the bicycle\n",
      "My favorite bike is Hondabike\n",
      "But my dream car is land cruiser\n"
     ]
    }
   ],
   "source": [
    "# Exercise 3.3\n",
    "Transportation_mode:list= [\"bicycle\", \"Hondabike\", \"land cruiser\", \"aeroplane\"]\n",
    "print(f\"I would like to own an {Transportation_mode[-1]}\")\n",
    "print(f\"I also like the {Transportation_mode[-4]}\")\n",
    "print(f\"My favorite bike is {Transportation_mode[-3]}\")\n",
    "print(f\"But my dream car is {Transportation_mode[-2]}\")"
   ]
  },
  {
   "cell_type": "code",
   "execution_count": 86,
   "metadata": {},
   "outputs": [
    {
     "name": "stdout",
     "output_type": "stream",
     "text": [
      "Ayesha, I am inviting you to dinner tonight\n",
      "Aiman, I am inviting you to dinner tonight\n",
      "Iram, I am inviting you to dinner tonight\n",
      "Sehar, I am inviting you to dinner tonight\n"
     ]
    }
   ],
   "source": [
    "# Exercise 3.4\n",
    "guests:list= [\"Ayesha\",\"Aiman\",\"Iram\",\"Sehar\"]\n",
    "message= \"I am inviting you to dinner tonight\"\n",
    "print(f\"{guests[0]}, {message}\")\n",
    "print(f\"{guests[1]}, {message}\")\n",
    "print(f\"{guests[2]}, {message}\")\n",
    "print(f\"{guests[3]}, {message}\")"
   ]
  },
  {
   "cell_type": "code",
   "execution_count": 87,
   "metadata": {},
   "outputs": [
    {
     "name": "stdout",
     "output_type": "stream",
     "text": [
      "Ayesha, I am inviting you for dinner together\n",
      "Aiman, I am inviting you for dinner together\n",
      "Iram, I am inviting you for dinner together\n",
      "Sehar, I am inviting you for dinner together\n",
      "Aiman, can't come for dinner\n",
      "['Ayesha', 'Hafsa', 'Iram', 'Sehar'] have invited for the dinner together\n"
     ]
    }
   ],
   "source": [
    "# Exercise 3.5\n",
    "guests:list=[\"Ayesha\", \"Aiman\", \"Iram\", \"Sehar\"]\n",
    "\n",
    "message=\"I am inviting you for dinner together\"\n",
    "\n",
    "print(f\"{guests[0]}, {message}\")\n",
    "print(f\"{guests[1]}, {message}\")\n",
    "print(f\"{guests[2]}, {message}\")\n",
    "print(f\"{guests[3]}, {message}\")\n",
    "\n",
    "print(f\"{guests[1]}, can't come for dinner\")\n",
    "\n",
    "guests[1]= \"Hafsa\"\n",
    "\n",
    "print(f\"{guests} have invited for the dinner together\")\n"
   ]
  },
  {
   "cell_type": "code",
   "execution_count": 88,
   "metadata": {},
   "outputs": [
    {
     "data": {
      "text/plain": [
       "['Ayesha', 'Hafsa', 'Iram', 'Sehar']"
      ]
     },
     "execution_count": 88,
     "metadata": {},
     "output_type": "execute_result"
    }
   ],
   "source": [
    "guests"
   ]
  },
  {
   "cell_type": "code",
   "execution_count": 89,
   "metadata": {},
   "outputs": [
    {
     "name": "stdout",
     "output_type": "stream",
     "text": [
      "Please come for the dinner Ayesha\n",
      "Please come for the dinner Hafsa\n",
      "Please come for the dinner Iram\n",
      "Please come for the dinner Sehar\n"
     ]
    }
   ],
   "source": [
    "new_msg= \"Please come for the dinner\"\n",
    "print(f\"{new_msg} {guests[0]}\\n{new_msg} {guests[1]}\\n{new_msg} {guests[2]}\\n{new_msg} {guests[3]}\")"
   ]
  },
  {
   "cell_type": "code",
   "execution_count": 90,
   "metadata": {},
   "outputs": [
    {
     "data": {
      "text/plain": [
       "['Ayesha', 'Hafsa', 'Iram', 'Sehar']"
      ]
     },
     "execution_count": 90,
     "metadata": {},
     "output_type": "execute_result"
    }
   ],
   "source": [
    "# Exercise 3.6\n",
    "guests"
   ]
  },
  {
   "cell_type": "code",
   "execution_count": 91,
   "metadata": {},
   "outputs": [
    {
     "name": "stdout",
     "output_type": "stream",
     "text": [
      "['Maria', 'Ayesha', 'Hafsa', 'Rehma', 'Iram', 'Sehar', 'Izza']\n"
     ]
    }
   ],
   "source": [
    "guest_1:str = \"Maria\"\n",
    "guest_2:str = \"Rehma\"\n",
    "guest_3:str = \"Izza\"\n",
    "\n",
    "guests.insert(0,guest_1)\n",
    "guests.insert(3,guest_2)\n",
    "guests.append(guest_3)\n",
    "\n",
    "print(guests)"
   ]
  },
  {
   "cell_type": "code",
   "execution_count": 92,
   "metadata": {},
   "outputs": [
    {
     "name": "stdout",
     "output_type": "stream",
     "text": [
      "['Maria', 'Ayesha', 'Hafsa', 'Rehma', 'Iram', 'Sehar', 'Izza']\n"
     ]
    }
   ],
   "source": [
    "# Exercise 3.7\n",
    "print(guests)"
   ]
  },
  {
   "cell_type": "code",
   "execution_count": 93,
   "metadata": {},
   "outputs": [
    {
     "name": "stdout",
     "output_type": "stream",
     "text": [
      " Izza Sorry, we can't invite you\n"
     ]
    }
   ],
   "source": [
    "message : str = \"Sorry, we can't invite you\"\n",
    "print(f\" {guests.pop()} {message}\")"
   ]
  },
  {
   "cell_type": "code",
   "execution_count": 94,
   "metadata": {},
   "outputs": [
    {
     "name": "stdout",
     "output_type": "stream",
     "text": [
      " Sehar Sorry, we can't invite you\n"
     ]
    }
   ],
   "source": [
    "message : str = \"Sorry, we can't invite you\"\n",
    "print(f\" {guests.pop()} {message}\")"
   ]
  },
  {
   "cell_type": "code",
   "execution_count": 95,
   "metadata": {},
   "outputs": [
    {
     "name": "stdout",
     "output_type": "stream",
     "text": [
      " Iram Sorry, we can't invite you\n"
     ]
    }
   ],
   "source": [
    "message : str = \"Sorry, we can't invite you\"\n",
    "print(f\" {guests.pop()} {message}\")"
   ]
  },
  {
   "cell_type": "code",
   "execution_count": 96,
   "metadata": {},
   "outputs": [
    {
     "name": "stdout",
     "output_type": "stream",
     "text": [
      " Rehma Sorry, we can't invite you\n"
     ]
    }
   ],
   "source": [
    "message : str = \"Sorry, we can't invite you\"\n",
    "print(f\" {guests.pop()} {message}\")"
   ]
  },
  {
   "cell_type": "code",
   "execution_count": 97,
   "metadata": {},
   "outputs": [
    {
     "name": "stdout",
     "output_type": "stream",
     "text": [
      " Hafsa Sorry, we can't invite you\n"
     ]
    }
   ],
   "source": [
    "message : str = \"Sorry, we can't invite you\"\n",
    "print(f\" {guests.pop()} {message}\")"
   ]
  },
  {
   "cell_type": "code",
   "execution_count": 98,
   "metadata": {},
   "outputs": [
    {
     "name": "stdout",
     "output_type": "stream",
     "text": [
      "['Maria', 'Ayesha']\n"
     ]
    }
   ],
   "source": [
    "print(guests)"
   ]
  },
  {
   "cell_type": "code",
   "execution_count": 99,
   "metadata": {},
   "outputs": [
    {
     "name": "stdout",
     "output_type": "stream",
     "text": [
      " Maria welcome you are still invited\n",
      " Ayesha welcome you are still invited\n"
     ]
    }
   ],
   "source": [
    "Message_2 : str= \"welcome you are still invited\"\n",
    "print(f\" {guests[0]} {Message_2}\")\n",
    "print(f\" {guests[1]} {Message_2}\")"
   ]
  },
  {
   "cell_type": "code",
   "execution_count": 100,
   "metadata": {},
   "outputs": [
    {
     "name": "stdout",
     "output_type": "stream",
     "text": [
      "[]\n"
     ]
    }
   ],
   "source": [
    "del guests[:]\n",
    "print(guests)"
   ]
  },
  {
   "cell_type": "code",
   "execution_count": 101,
   "metadata": {},
   "outputs": [
    {
     "name": "stdout",
     "output_type": "stream",
     "text": [
      "['Turkey', 'Dubai', 'Canada', 'America', 'Egypt']\n"
     ]
    }
   ],
   "source": [
    "# Exercise 3.8\n",
    "Places:list = [\"Turkey\",\"Dubai\",\"Canada\",\"America\",\"Egypt\"]\n",
    "print(Places)\n"
   ]
  },
  {
   "cell_type": "code",
   "execution_count": 102,
   "metadata": {},
   "outputs": [
    {
     "name": "stdout",
     "output_type": "stream",
     "text": [
      "This is the sorted list without changing the original one ['America', 'Canada', 'Dubai', 'Egypt', 'Turkey']\n"
     ]
    },
    {
     "data": {
      "text/plain": [
       "\"This is the original one ['Turkey', 'Dubai', 'Canada', 'America', 'Egypt']\""
      ]
     },
     "execution_count": 102,
     "metadata": {},
     "output_type": "execute_result"
    }
   ],
   "source": [
    "print(f\"This is the sorted list without changing the original one {sorted(Places)}\")\n",
    "f\"This is the original one {Places}\""
   ]
  },
  {
   "cell_type": "code",
   "execution_count": 103,
   "metadata": {},
   "outputs": [
    {
     "name": "stdout",
     "output_type": "stream",
     "text": [
      "This is the sorted-reversed list without changing the original one ['Turkey', 'Egypt', 'Dubai', 'Canada', 'America']\n"
     ]
    },
    {
     "data": {
      "text/plain": [
       "\"This is the original one ['Turkey', 'Dubai', 'Canada', 'America', 'Egypt']\""
      ]
     },
     "execution_count": 103,
     "metadata": {},
     "output_type": "execute_result"
    }
   ],
   "source": [
    "print(f\"This is the sorted-reversed list without changing the original one {sorted(Places,reverse=True)}\")\n",
    "f\"This is the original one {Places}\""
   ]
  },
  {
   "cell_type": "code",
   "execution_count": 104,
   "metadata": {},
   "outputs": [
    {
     "data": {
      "text/plain": [
       "\"This is the reverse list ['Egypt', 'America', 'Canada', 'Dubai', 'Turkey']\""
      ]
     },
     "execution_count": 104,
     "metadata": {},
     "output_type": "execute_result"
    }
   ],
   "source": [
    "Places.reverse()\n",
    "f\"This is the reverse list {Places}\""
   ]
  },
  {
   "cell_type": "code",
   "execution_count": 105,
   "metadata": {},
   "outputs": [
    {
     "data": {
      "text/plain": [
       "\"This is the original list ['Turkey', 'Dubai', 'Canada', 'America', 'Egypt']\""
      ]
     },
     "execution_count": 105,
     "metadata": {},
     "output_type": "execute_result"
    }
   ],
   "source": [
    "Places.reverse()\n",
    "f\"This is the original list {Places}\""
   ]
  },
  {
   "cell_type": "code",
   "execution_count": 106,
   "metadata": {},
   "outputs": [
    {
     "name": "stdout",
     "output_type": "stream",
     "text": [
      "This is the sorted list ['America', 'Canada', 'Dubai', 'Egypt', 'Turkey']\n"
     ]
    }
   ],
   "source": [
    "Places.sort()\n",
    "print(f\"This is the sorted list {Places}\")"
   ]
  },
  {
   "cell_type": "code",
   "execution_count": 107,
   "metadata": {},
   "outputs": [
    {
     "name": "stdout",
     "output_type": "stream",
     "text": [
      "['Banana', 'Apple', 'Strawberry', 'Grapes', 'Peach']\n"
     ]
    }
   ],
   "source": [
    "# Exercise 3.9\n",
    "fruits:list= [\"Banana\", \"Apple\", \"Strawberry\", \"Grapes\", \"Peach\"]\n",
    "print(fruits)"
   ]
  },
  {
   "cell_type": "code",
   "execution_count": 108,
   "metadata": {},
   "outputs": [
    {
     "name": "stdout",
     "output_type": "stream",
     "text": [
      "['Banana', 'Apple', 'Strawberry', 'Grapes', 'Peach', 'Melon', 'Watermelon']\n"
     ]
    }
   ],
   "source": [
    "#extend()\n",
    "other_fruits: list= [\"Melon\",\"Watermelon\"]\n",
    "fruits.extend(other_fruits)\n",
    "print(fruits)"
   ]
  },
  {
   "cell_type": "code",
   "execution_count": 109,
   "metadata": {},
   "outputs": [
    {
     "name": "stdout",
     "output_type": "stream",
     "text": [
      "['Orange', 'Banana', 'Apple', 'Strawberry', 'Grapes', 'Peach', 'Melon', 'Watermelon']\n"
     ]
    }
   ],
   "source": [
    "#insert()\n",
    "fruits.insert(0,\"Orange\")\n",
    "print (fruits)"
   ]
  },
  {
   "cell_type": "code",
   "execution_count": 110,
   "metadata": {},
   "outputs": [
    {
     "name": "stdout",
     "output_type": "stream",
     "text": [
      "['Orange', 'Banana', 'Apple', 'Strawberry', 'Grapes', 'Peach', 'Melon']\n"
     ]
    }
   ],
   "source": [
    "#remove()\n",
    "fruits.remove(\"Watermelon\")\n",
    "print(fruits)"
   ]
  },
  {
   "cell_type": "code",
   "execution_count": 111,
   "metadata": {},
   "outputs": [
    {
     "name": "stdout",
     "output_type": "stream",
     "text": [
      "['Orange', 'Banana', 'Apple', 'Grapes', 'Peach', 'Melon']\n"
     ]
    }
   ],
   "source": [
    "#pop()\n",
    "fruits.pop(3)\n",
    "print(fruits)"
   ]
  },
  {
   "cell_type": "code",
   "execution_count": 112,
   "metadata": {},
   "outputs": [
    {
     "name": "stdout",
     "output_type": "stream",
     "text": [
      "['Orange', 'Banana', 'Apple', 'Grapes', 'Peach', 'Cherry', 'Melon']\n"
     ]
    }
   ],
   "source": [
    "fruits:list=[\"Orange\",\"Banana\", \"Apple\", \"Grapes\",\"Peach\", \"Cherry\", \"Melon\"]\n",
    "print(fruits)"
   ]
  },
  {
   "cell_type": "code",
   "execution_count": 113,
   "metadata": {},
   "outputs": [
    {
     "name": "stdout",
     "output_type": "stream",
     "text": [
      "1\n"
     ]
    }
   ],
   "source": [
    "#count()\n",
    "fruits:list=[\"Orange\",\"Banana\", \"Apple\", \"Grapes\",\"Peach\", \"Cherry\", \"Melon\"]\n",
    "print(fruits.count(\"Grapes\"))"
   ]
  },
  {
   "cell_type": "code",
   "execution_count": 114,
   "metadata": {},
   "outputs": [
    {
     "name": "stdout",
     "output_type": "stream",
     "text": [
      "4\n"
     ]
    }
   ],
   "source": [
    "#index()\n",
    "fruits:list=[\"Orange\",\"Banana\", \"Apple\", \"Grapes\",\"Peach\", \"Cherry\", \"Melon\"]\n",
    "print(fruits.index(\"Peach\"))"
   ]
  },
  {
   "cell_type": "code",
   "execution_count": 115,
   "metadata": {},
   "outputs": [
    {
     "name": "stdout",
     "output_type": "stream",
     "text": [
      "['Melon', 'Cherry', 'Peach', 'Grapes', 'Apple', 'Banana', 'Orange']\n"
     ]
    }
   ],
   "source": [
    "#reverse()\n",
    "fruits:list=[\"Orange\",\"Banana\", \"Apple\", \"Grapes\",\"Peach\", \"Cherry\", \"Melon\"]\n",
    "fruits.reverse()\n",
    "print(fruits)"
   ]
  },
  {
   "cell_type": "code",
   "execution_count": 116,
   "metadata": {},
   "outputs": [
    {
     "name": "stdout",
     "output_type": "stream",
     "text": [
      "['Apple', 'Banana', 'Cherry', 'Grapes', 'Melon', 'Orange', 'Peach']\n"
     ]
    }
   ],
   "source": [
    "#sort()\n",
    "fruits:list=[\"Orange\",\"Banana\", \"Apple\", \"Grapes\",\"Peach\", \"Cherry\", \"Melon\"]\n",
    "fruits.sort()\n",
    "print(fruits)"
   ]
  },
  {
   "cell_type": "code",
   "execution_count": 117,
   "metadata": {},
   "outputs": [
    {
     "data": {
      "text/plain": [
       "7"
      ]
     },
     "execution_count": 117,
     "metadata": {},
     "output_type": "execute_result"
    }
   ],
   "source": [
    "#length()\n",
    "fruits:list=[\"Orange\",\"Banana\", \"Apple\", \"Grapes\",\"Peach\", \"Cherry\", \"Melon\"]\n",
    "len(fruits)"
   ]
  },
  {
   "cell_type": "code",
   "execution_count": 118,
   "metadata": {},
   "outputs": [
    {
     "data": {
      "text/plain": [
       "['Orange', 'Banana', 'Apple', 'Grapes', 'Peach', 'Cherry', 'Melon']"
      ]
     },
     "execution_count": 118,
     "metadata": {},
     "output_type": "execute_result"
    }
   ],
   "source": [
    "#copy()\n",
    "fruits:list=[\"Orange\",\"Banana\", \"Apple\", \"Grapes\",\"Peach\", \"Cherry\", \"Melon\"]\n",
    "fruits.copy()\n"
   ]
  },
  {
   "cell_type": "code",
   "execution_count": 123,
   "metadata": {},
   "outputs": [
    {
     "name": "stdout",
     "output_type": "stream",
     "text": [
      "['Orange', 'Banana', 'Apple', 'Grapes', 'Peach', 'Cherry', 'Melon', 'Mango']\n"
     ]
    }
   ],
   "source": [
    "#append()\n",
    "fruits:list=[\"Orange\",\"Banana\", \"Apple\", \"Grapes\",\"Peach\", \"Cherry\", \"Melon\"]\n",
    "fruits.append(\"Mango\")\n",
    "print(fruits)"
   ]
  },
  {
   "cell_type": "code",
   "execution_count": 120,
   "metadata": {},
   "outputs": [
    {
     "name": "stdout",
     "output_type": "stream",
     "text": [
      "[]\n"
     ]
    }
   ],
   "source": [
    "#clear()\n",
    "fruits:list=[\"Orange\",\"Banana\", \"Apple\", \"Grapes\",\"Peach\", \"Cherry\", \"Melon\"]\n",
    "fruits.clear()\n",
    "print(fruits)"
   ]
  },
  {
   "cell_type": "code",
   "execution_count": 121,
   "metadata": {},
   "outputs": [
    {
     "name": "stdout",
     "output_type": "stream",
     "text": [
      "[]\n"
     ]
    }
   ],
   "source": [
    "#del()\n",
    "fruits:list=[\"Orange\",\"Banana\", \"Apple\", \"Grapes\",\"Peach\", \"Cherry\", \"Melon\"]\n",
    "del fruits[:]\n",
    "print(fruits)"
   ]
  },
  {
   "cell_type": "code",
   "execution_count": 125,
   "metadata": {},
   "outputs": [
    {
     "name": "stdout",
     "output_type": "stream",
     "text": [
      "green\n"
     ]
    }
   ],
   "source": [
    "# Exercise 3.10\n",
    "colors:list= [\"white\", \"red\", \"purple\", \"green\"]\n",
    "print(colors[3])\n"
   ]
  }
 ],
 "metadata": {
  "kernelspec": {
   "display_name": "Python 3",
   "language": "python",
   "name": "python3"
  },
  "language_info": {
   "codemirror_mode": {
    "name": "ipython",
    "version": 3
   },
   "file_extension": ".py",
   "mimetype": "text/x-python",
   "name": "python",
   "nbconvert_exporter": "python",
   "pygments_lexer": "ipython3",
   "version": "3.12.4"
  }
 },
 "nbformat": 4,
 "nbformat_minor": 2
}
